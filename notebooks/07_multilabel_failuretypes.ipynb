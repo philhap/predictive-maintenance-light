{
 "cells": [
  {
   "cell_type": "code",
   "execution_count": 14,
   "id": "1542530d",
   "metadata": {},
   "outputs": [
    {
     "name": "stdout",
     "output_type": "stream",
     "text": [
      "--- TWF ---\n",
      "              precision    recall  f1-score   support\n",
      "\n",
      "           0       1.00      1.00      1.00      2488\n",
      "           1       0.00      0.00      0.00        12\n",
      "\n",
      "    accuracy                           1.00      2500\n",
      "   macro avg       0.50      0.50      0.50      2500\n",
      "weighted avg       0.99      1.00      0.99      2500\n",
      "\n",
      "--- HDF ---\n",
      "              precision    recall  f1-score   support\n",
      "\n",
      "           0       0.99      1.00      1.00      2478\n",
      "           1       0.00      0.00      0.00        22\n",
      "\n",
      "    accuracy                           0.99      2500\n",
      "   macro avg       0.50      0.50      0.50      2500\n",
      "weighted avg       0.98      0.99      0.99      2500\n",
      "\n",
      "--- OSF ---\n",
      "              precision    recall  f1-score   support\n",
      "\n",
      "           0       1.00      1.00      1.00      2480\n",
      "           1       1.00      0.60      0.75        20\n",
      "\n",
      "    accuracy                           1.00      2500\n",
      "   macro avg       1.00      0.80      0.87      2500\n",
      "weighted avg       1.00      1.00      1.00      2500\n",
      "\n",
      "--- RNF ---\n",
      "              precision    recall  f1-score   support\n",
      "\n",
      "           0       1.00      1.00      1.00      2494\n",
      "           1       0.00      0.00      0.00         6\n",
      "\n",
      "    accuracy                           1.00      2500\n",
      "   macro avg       0.50      0.50      0.50      2500\n",
      "weighted avg       1.00      1.00      1.00      2500\n",
      "\n",
      "--- PWF ---\n",
      "              precision    recall  f1-score   support\n",
      "\n",
      "           0       1.00      1.00      1.00      2477\n",
      "           1       0.94      0.70      0.80        23\n",
      "\n",
      "    accuracy                           1.00      2500\n",
      "   macro avg       0.97      0.85      0.90      2500\n",
      "weighted avg       1.00      1.00      1.00      2500\n",
      "\n"
     ]
    },
    {
     "data": {
      "image/png": "[encoded data removed]",
      "text/plain": [
       "<Figure size 640x480 with 1 Axes>"
      ]
     },
     "metadata": {},
     "output_type": "display_data"
    }
   ],
   "source": [
    "import pandas as pd\n",
    "import matplotlib.pyplot as plt\n",
    "import seaborn as sns\n",
    "from sklearn.ensemble import RandomForestClassifier\n",
    "from sklearn.multioutput import MultiOutputClassifier\n",
    "from sklearn.model_selection import train_test_split\n",
    "from sklearn.metrics import classification_report\n",
    "\n",
    "# Daten laden\n",
    "df = pd.read_csv('../data/ai4i2020.csv')\n",
    "\n",
    "# Zielvariablen: Fehlerarten\n",
    "target_cols = ['TWF', 'HDF', 'OSF', 'RNF', 'PWF']\n",
    "y = df[target_cols]\n",
    "\n",
    "# Eingabe-Features inkl. Maschinentyp\n",
    "features = ['Torque [Nm]', 'Tool wear [min]', 'Rotational speed [rpm]', 'Process temperature [K]', 'Type']\n",
    "X = pd.get_dummies(df[features], drop_first=True)\n",
    "\n",
    "# Train/Test-Split\n",
    "X_train, X_test, y_train, y_test = train_test_split(X, y, test_size=0.25, random_state=42)\n",
    "\n",
    "# Modell: MultiOutputClassifier mit Random Forest\n",
    "base_model = RandomForestClassifier(n_estimators=100, random_state=42)\n",
    "multi_model = MultiOutputClassifier(base_model)\n",
    "multi_model.fit(X_train, y_train)\n",
    "\n",
    "# Vorhersage\n",
    "y_pred = pd.DataFrame(multi_model.predict(X_test), columns=target_cols)\n",
    "\n",
    "# Bewertung je Fehlerart\n",
    "for col in target_cols:\n",
    "    print(f\"--- {col} ---\")\n",
    "    print(classification_report(y_test[col], y_pred[col], zero_division=0))\n",
    "\n",
    "# Fehlerverteilung visualisieren\n",
    "failures = y.sum()\n",
    "failures.plot(kind='bar', title='Fehlerverteilung im Gesamt-Datensatz')\n",
    "plt.ylabel('Anzahl Fehler')\n",
    "plt.show()\n"
   ]
  }
 ],
 "metadata": {
  "kernelspec": {
   "display_name": ".venv",
   "language": "python",
   "name": "python3"
  },
  "language_info": {
   "codemirror_mode": {
    "name": "ipython",
    "version": 3
   },
   "file_extension": ".py",
   "mimetype": "text/x-python",
   "name": "python",
   "nbconvert_exporter": "python",
   "pygments_lexer": "ipython3",
   "version": "3.9.13"
  }
 },
 "nbformat": 4,
 "nbformat_minor": 5
}
