{
 "cells": [
  {
   "cell_type": "code",
   "execution_count": 1,
   "id": "2e9c0901",
   "metadata": {},
   "outputs": [
    {
     "name": "stdout",
     "output_type": "stream",
     "text": [
      "   Torque [Nm]  Tool wear [min]  rf_proba  anomaly_flag  risk_score  \\\n",
      "0         42.8                0       0.0             0    0.000000   \n",
      "1         46.3                3       0.0             0    0.003557   \n",
      "2         49.4                5       0.0             0    0.005929   \n",
      "3         39.5                7       0.0             0    0.008300   \n",
      "4         40.0                9       0.0             0    0.010672   \n",
      "\n",
      "   risk_label  \n",
      "0  Unkritisch  \n",
      "1  Unkritisch  \n",
      "2  Unkritisch  \n",
      "3  Unkritisch  \n",
      "4  Unkritisch  \n"
     ]
    },
    {
     "data": {
      "image/png": "[encoded data removed]",
      "text/plain": [
       "<Figure size 640x480 with 1 Axes>"
      ]
     },
     "metadata": {},
     "output_type": "display_data"
    }
   ],
   "source": [
    "import pandas as pd\n",
    "import numpy as np\n",
    "from sklearn.ensemble import RandomForestClassifier, IsolationForest\n",
    "from sklearn.model_selection import train_test_split\n",
    "\n",
    "# Daten laden\n",
    "df = pd.read_csv('../data/ai4i2020.csv')\n",
    "\n",
    "# --------------------\n",
    "# 1. Vorbereitung\n",
    "# --------------------\n",
    "# Ziel\n",
    "y = df['Machine failure']\n",
    "\n",
    "# Feature-Set\n",
    "features = ['Torque [Nm]', 'Tool wear [min]', 'Rotational speed [rpm]', 'Process temperature [K]', 'Type']\n",
    "X = pd.get_dummies(df[features], drop_first=True)\n",
    "\n",
    "# Train/Test-Split (wir nutzen hier 100% fürs Training – Ziel ist Risikoindikator, nicht Testbewertung)\n",
    "rf = RandomForestClassifier(n_estimators=100, random_state=42)\n",
    "rf.fit(X, y)\n",
    "\n",
    "# Machine Failure Wahrscheinlichkeit\n",
    "df['rf_proba'] = rf.predict_proba(X)[:, 1]\n",
    "\n",
    "# Isolation Forest\n",
    "iso = IsolationForest(n_estimators=100, contamination=0.01, random_state=42)\n",
    "df['anomaly'] = iso.fit_predict(X)\n",
    "df['anomaly_flag'] = (df['anomaly'] == -1).astype(int)\n",
    "\n",
    "# --------------------\n",
    "# 2. Fehlerindikator berechnen\n",
    "# --------------------\n",
    "# Skaliere Tool wear (0–1)\n",
    "df['tool_wear_scaled'] = (df['Tool wear [min]'] - df['Tool wear [min]'].min()) / (df['Tool wear [min]'].max() - df['Tool wear [min]'].min())\n",
    "\n",
    "# Kombinierter Risiko-Score (gewichteter Mittelwert)\n",
    "df['risk_score'] = (\n",
    "    0.5 * df['rf_proba'] +\n",
    "    0.3 * df['tool_wear_scaled'] +\n",
    "    0.2 * df['anomaly_flag']\n",
    ")\n",
    "\n",
    "# --------------------\n",
    "# 3. Risikostatus zuweisen\n",
    "# --------------------\n",
    "def classify_risk(score):\n",
    "    if score < 0.3:\n",
    "        return 'Unkritisch'\n",
    "    elif score < 0.6:\n",
    "        return 'Verdächtig'\n",
    "    else:\n",
    "        return 'Hochrisiko'\n",
    "\n",
    "df['risk_label'] = df['risk_score'].apply(classify_risk)\n",
    "\n",
    "# --------------------\n",
    "# 4. Ergebnisse anzeigen\n",
    "# --------------------\n",
    "print(df[['Torque [Nm]', 'Tool wear [min]', 'rf_proba', 'anomaly_flag', 'risk_score', 'risk_label']].head())\n",
    "\n",
    "# Optional: Verteilung anzeigen\n",
    "import seaborn as sns\n",
    "import matplotlib.pyplot as plt\n",
    "\n",
    "sns.countplot(x='risk_label', data=df, order=['Unkritisch', 'Verdächtig', 'Hochrisiko'])\n",
    "plt.title(\"Verteilung der Risikostufen\")\n",
    "plt.show()\n"
   ]
  }
 ],
 "metadata": {
  "kernelspec": {
   "display_name": ".venv",
   "language": "python",
   "name": "python3"
  },
  "language_info": {
   "codemirror_mode": {
    "name": "ipython",
    "version": 3
   },
   "file_extension": ".py",
   "mimetype": "text/x-python",
   "name": "python",
   "nbconvert_exporter": "python",
   "pygments_lexer": "ipython3",
   "version": "3.9.13"
  }
 },
 "nbformat": 4,
 "nbformat_minor": 5
}
